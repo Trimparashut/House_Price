{
 "cells": [
  {
   "cell_type": "code",
   "execution_count": 1,
   "metadata": {},
   "outputs": [],
   "source": [
    "import pandas as pd\n",
    "import numpy as np\n",
    "import re\n",
    "import nltk\n",
    "from nltk.stem import SnowballStemmer\n",
    "from sklearn.feature_extraction.text import TfidfVectorizer\n",
    "from pandas import get_dummies"
   ]
  },
  {
   "cell_type": "code",
   "execution_count": 2,
   "metadata": {},
   "outputs": [],
   "source": [
    "df = pd.read_csv('house.csv',sep='$')\n",
    "df.drop(['Unnamed: 0','phone'],axis=1,inplace=True)"
   ]
  },
  {
   "cell_type": "code",
   "execution_count": 24,
   "metadata": {},
   "outputs": [],
   "source": [
    "q=[]\n",
    "for i in tf.get_feature_names():\n",
    "    if ' ' in i:\n",
    "        q.append(i)"
   ]
  },
  {
   "cell_type": "code",
   "execution_count": 57,
   "metadata": {},
   "outputs": [],
   "source": [
    "df['text'] = df.text.apply(lambda x: re.sub('\\-\\s\\r\\n\\s{1,}|-\\s\\r\\n|\\r\\n','',x.lower()))\n",
    "df['text'] = df.text.apply(lambda x: re.sub('[,:;_%?*!@#$^&*()\\d|[+=]|[[]|[]]|[/]|\"|\\s{2,}|-',' ',x))\n"
   ]
  },
  {
   "cell_type": "code",
   "execution_count": 58,
   "metadata": {},
   "outputs": [],
   "source": [
    "regex = r\"[\\w']+|[\\.]\"\n",
    "doc=[]"
   ]
  },
  {
   "cell_type": "code",
   "execution_count": 60,
   "metadata": {},
   "outputs": [],
   "source": [
    "for t in df.text[:5]:\n",
    "    words = re.findall(regex,t)\n",
    "    doc.extend(words)"
   ]
  },
  {
   "cell_type": "code",
   "execution_count": 69,
   "metadata": {},
   "outputs": [],
   "source": [
    "bigr=zip(doc,doc[1:])"
   ]
  },
  {
   "cell_type": "code",
   "execution_count": 70,
   "metadata": {},
   "outputs": [],
   "source": [
    "from collections import defaultdict\n",
    "\n",
    "trans = defaultdict(list)\n",
    "for prev,curr in bigr:\n",
    "    trans[prev].append(curr)"
   ]
  },
  {
   "cell_type": "code",
   "execution_count": 81,
   "metadata": {},
   "outputs": [],
   "source": [
    "from random import choice\n",
    "def gen():\n",
    "    curr='.'\n",
    "    res=[]\n",
    "    while True:\n",
    "        next_wd = trans[curr]\n",
    "        curr = choice(next_wd)\n",
    "        res.append(curr)\n",
    "        if curr =='.': return ' '.join(res)"
   ]
  },
  {
   "cell_type": "code",
   "execution_count": 89,
   "metadata": {},
   "outputs": [
    {
     "name": "stdout",
     "output_type": "stream",
     "text": [
      "вce paзpешeния пpоeкт и чepнoвoй oтделкой .учаcток coтoк oтдeльностоящий дом кв м доступность общественного транспорта от пл .в жилом состоянии .революции мин .учаcток coтoк oтдeльностоящий дом oхраны с гaрaжом нa машины кв м этажа цoколь в элитнoм коттеджном пoceлкe озеpки нa машины кв м .\n"
     ]
    }
   ],
   "source": [
    "print(gen()+gen()+gen()+gen()+gen())"
   ]
  },
  {
   "cell_type": "code",
   "execution_count": 90,
   "metadata": {},
   "outputs": [],
   "source": [
    "trigr = zip(doc,doc[1:],doc[2:])\n",
    "tri_tr = defaultdict(list)\n",
    "starts=[]"
   ]
  },
  {
   "cell_type": "code",
   "execution_count": 91,
   "metadata": {},
   "outputs": [],
   "source": [
    "for prev,curr,nxt in trigr:\n",
    "    if prev=='.':\n",
    "        starts.append(curr)\n",
    "    tri_tr[(prev,curr)].append(nxt)"
   ]
  },
  {
   "cell_type": "code",
   "execution_count": 93,
   "metadata": {},
   "outputs": [],
   "source": [
    "def tri_gen():\n",
    "    \n",
    "    curr = choice(starts)\n",
    "    prev = '.'\n",
    "    res = [curr]\n",
    "    while True:\n",
    "        nxt_word_cand = tri_tr[(prev,curr)]\n",
    "        nxt_word = choice(nxt_word_cand)\n",
    "        prev,curr = curr , nxt_word\n",
    "        res.append(curr)\n",
    "        if curr =='.': return ' '.join(res)"
   ]
  },
  {
   "cell_type": "code",
   "execution_count": 159,
   "metadata": {},
   "outputs": [
    {
     "name": "stdout",
     "output_type": "stream",
     "text": [
      "вce paзpешeния пpоeкт и cвидeтельствo пoлучены .\n",
      "сpoчная пpoдажа дом кв м баня cауна спopтзaл бaсcейн мx м бильярднaя бapбекю pодникoвoе озepo ландшафтный дизaйн участкa oбустpоeннaя дeтская площадка .\n",
      "учаcток coтoк oтдeльностоящий дом oхраны с гaрaжом нa машины кв м баня cауна спopтзaл бaсcейн мx м бильярднaя бapбекю pодникoвoе озepo ландшафтный дизaйн участкa oбустpоeннaя дeтская площадка .\n",
      "кaчeственнaя cтяжка пoлa качественнaя штукатуpка cтeн пpиточная вентиляция потолки из гклв кондиционеры .\n"
     ]
    }
   ],
   "source": [
    "for i in range(1,5):\n",
    "    a = tri_gen()\n",
    "    while len(a)<40:\n",
    "        a = tri_gen()\n",
    "    print(a)"
   ]
  },
  {
   "cell_type": "code",
   "execution_count": null,
   "metadata": {},
   "outputs": [],
   "source": []
  },
  {
   "cell_type": "code",
   "execution_count": null,
   "metadata": {},
   "outputs": [],
   "source": []
  },
  {
   "cell_type": "code",
   "execution_count": 3,
   "metadata": {},
   "outputs": [],
   "source": [
    "df['addres'] = df.addres.apply(lambda x: 'Самара, '+x if x.find('Самара')<0 else x)"
   ]
  },
  {
   "cell_type": "code",
   "execution_count": 4,
   "metadata": {},
   "outputs": [],
   "source": [
    "stemmer = SnowballStemmer('russian')"
   ]
  },
  {
   "cell_type": "code",
   "execution_count": 5,
   "metadata": {},
   "outputs": [],
   "source": [
    "import pymorphy2\n",
    "ma = pymorphy2.MorphAnalyzer()\n",
    "def clean(text):\n",
    "    text = text.lower()\n",
    "    text = re.sub('\\-\\s\\r\\n\\s{1,}|-\\s\\r\\n|\\r\\n','',text)\n",
    "    text = re.sub('[.,:;_%?*!@#$^&*()\\d|[+=]|[[]|[]]|[/]|\"|\\s{2,}|-',' ',text)\n",
    "    text = \" \".join(ma.parse(str(word))[0].normal_form for word in text.split())\n",
    "    text = ' '.join(word for word in text.split() if len(word)>3)\n",
    "    return text"
   ]
  },
  {
   "cell_type": "code",
   "execution_count": 6,
   "metadata": {},
   "outputs": [],
   "source": [
    "def tok(text):\n",
    "    token = [word for sent in nltk.sent_tokenize(text) for word in nltk.word_tokenize(sent)]\n",
    "    #tokens = []\n",
    "    #for tok in token:\n",
    "    #    if re.search('а-яА-Я',tok):\n",
    "    #        tokens.append(tok)\n",
    "    stems = [stemmer.stem(t) for t in token]\n",
    "    return stems"
   ]
  },
  {
   "cell_type": "code",
   "execution_count": 7,
   "metadata": {
    "scrolled": true
   },
   "outputs": [
    {
     "name": "stderr",
     "output_type": "stream",
     "text": [
      "/anac/anaconda3/lib/python3.7/site-packages/ipykernel_launcher.py:6: FutureWarning: Possible nested set at position 27\n",
      "  \n"
     ]
    }
   ],
   "source": [
    "df['text'] = df.text.map(lambda x: clean(x))"
   ]
  },
  {
   "cell_type": "code",
   "execution_count": 8,
   "metadata": {},
   "outputs": [],
   "source": [
    "df_text=df['text']"
   ]
  },
  {
   "cell_type": "code",
   "execution_count": 9,
   "metadata": {},
   "outputs": [],
   "source": [
    "df['to_city']=df.to_city.apply(lambda x: x.replace('В черте города','0'))\n",
    "df['price'] = df.price.apply(lambda x: int(x.replace(' ','').split('р')[0]))\n",
    "df['type'] = df.deal.apply(lambda x: x.split()[0])\n",
    "df['home_square'] = df.deal.apply(lambda x: x.split()[1])\n",
    "df['land_square'] = df.deal.apply(lambda x: x.split()[5])\n",
    "df.flours=df.flours.astype('int')\n",
    "df.to_city=df.to_city.astype('int')\n",
    "df.price=df.price.astype('int')\n",
    "df.home_square=df.home_square.astype('float')\n",
    "df.land_square=df.land_square.astype('float')\n",
    "df.drop(['addres','deal'],axis=1,inplace=True)"
   ]
  },
  {
   "cell_type": "code",
   "execution_count": 10,
   "metadata": {},
   "outputs": [],
   "source": [
    "df_dum=get_dummies(df.drop('text',axis=1))"
   ]
  },
  {
   "cell_type": "code",
   "execution_count": 11,
   "metadata": {},
   "outputs": [],
   "source": [
    "df_dum=pd.concat([df_dum,df.text],axis=1)"
   ]
  },
  {
   "cell_type": "code",
   "execution_count": 12,
   "metadata": {},
   "outputs": [
    {
     "data": {
      "text/plain": [
       "array([ 1813411.01694915,  6174961.36012365, 18209836.06557377,\n",
       "       11800000.        ])"
      ]
     },
     "execution_count": 12,
     "metadata": {},
     "output_type": "execute_result"
    }
   ],
   "source": [
    "df_dum.groupby('flours').price.mean().values"
   ]
  },
  {
   "cell_type": "code",
   "execution_count": 13,
   "metadata": {
    "scrolled": true
   },
   "outputs": [
    {
     "name": "stderr",
     "output_type": "stream",
     "text": [
      "/anac/anaconda3/lib/python3.7/site-packages/sklearn/feature_extraction/text.py:301: UserWarning: Your stop_words may be inconsistent with your preprocessing. Tokenizing the stop words generated tokens ['бол', 'больш', 'будт', 'быт', 'вед', 'впроч', 'всег', 'всегд', 'даж', 'друг', 'е', 'ег', 'ем', 'есл', 'ест', 'ещ', 'зач', 'зде', 'ил', 'иногд', 'когд', 'конечн', 'куд', 'лучш', 'межд', 'мен', 'мног', 'мо', 'можн', 'нег', 'нельз', 'нибуд', 'никогд', 'нич', 'опя', 'посл', 'пот', 'почт', 'разв', 'сво', 'себ', 'совс', 'теб', 'тепер', 'тог', 'тогд', 'тож', 'тольк', 'хорош', 'хот', 'чег', 'чут', 'эт'] not in stop_words.\n",
      "  'stop_words.' % sorted(inconsistent))\n"
     ]
    }
   ],
   "source": [
    "tf = TfidfVectorizer(tokenizer=tok,stop_words=nltk.corpus.stopwords.words('russian'),ngram_range=(1,2),min_df=2)\n",
    "tf_m = tf.fit_transform(df_dum.text.values)"
   ]
  },
  {
   "cell_type": "code",
   "execution_count": 14,
   "metadata": {
    "scrolled": true
   },
   "outputs": [
    {
     "data": {
      "text/plain": [
       "<2635x4950 sparse matrix of type '<class 'numpy.float64'>'\n",
       "\twith 173479 stored elements in Compressed Sparse Row format>"
      ]
     },
     "execution_count": 14,
     "metadata": {},
     "output_type": "execute_result"
    }
   ],
   "source": [
    "tf_m"
   ]
  },
  {
   "cell_type": "code",
   "execution_count": 15,
   "metadata": {},
   "outputs": [],
   "source": [
    "from sklearn.ensemble import RandomForestRegressor"
   ]
  },
  {
   "cell_type": "code",
   "execution_count": 22,
   "metadata": {},
   "outputs": [],
   "source": [
    "from sklearn.model_selection import cross_val_score"
   ]
  },
  {
   "cell_type": "code",
   "execution_count": 23,
   "metadata": {},
   "outputs": [],
   "source": [
    "rf=RandomForestRegressor()"
   ]
  },
  {
   "cell_type": "code",
   "execution_count": 24,
   "metadata": {},
   "outputs": [],
   "source": [
    "text = pd.DataFrame(columns=tf.get_feature_names(),data=tf_m.toarray())"
   ]
  },
  {
   "cell_type": "code",
   "execution_count": 25,
   "metadata": {},
   "outputs": [],
   "source": [
    "df_dum.drop('text',axis=1,inplace=True)"
   ]
  },
  {
   "cell_type": "code",
   "execution_count": 26,
   "metadata": {},
   "outputs": [],
   "source": [
    "df_dum=pd.concat([df_dum,text],axis=1)"
   ]
  },
  {
   "cell_type": "code",
   "execution_count": 27,
   "metadata": {},
   "outputs": [],
   "source": [
    "df_dum.drop('price',inplace=True,axis=1)"
   ]
  },
  {
   "cell_type": "code",
   "execution_count": 28,
   "metadata": {
    "scrolled": true
   },
   "outputs": [
    {
     "name": "stderr",
     "output_type": "stream",
     "text": [
      "/anac/anaconda3/lib/python3.7/site-packages/sklearn/ensemble/forest.py:246: FutureWarning: The default value of n_estimators will change from 10 in version 0.20 to 100 in 0.22.\n",
      "  \"10 in version 0.20 to 100 in 0.22.\", FutureWarning)\n"
     ]
    },
    {
     "data": {
      "text/plain": [
       "RandomForestRegressor(bootstrap=True, criterion='mse', max_depth=None,\n",
       "           max_features='auto', max_leaf_nodes=None,\n",
       "           min_impurity_decrease=0.0, min_impurity_split=None,\n",
       "           min_samples_leaf=1, min_samples_split=2,\n",
       "           min_weight_fraction_leaf=0.0, n_estimators=10, n_jobs=None,\n",
       "           oob_score=False, random_state=None, verbose=0, warm_start=False)"
      ]
     },
     "execution_count": 28,
     "metadata": {},
     "output_type": "execute_result"
    }
   ],
   "source": [
    "rf.fit(df_dum,df.price)"
   ]
  },
  {
   "cell_type": "code",
   "execution_count": 29,
   "metadata": {
    "scrolled": true
   },
   "outputs": [
    {
     "data": {
      "text/plain": [
       "0.9999993967439268"
      ]
     },
     "execution_count": 29,
     "metadata": {},
     "output_type": "execute_result"
    }
   ],
   "source": [
    "cross_val_score(rf,df_dum,df.price,cv=5,scoring='r2').mean()"
   ]
  },
  {
   "cell_type": "code",
   "execution_count": 30,
   "metadata": {},
   "outputs": [
    {
     "data": {
      "text/plain": [
       "-579.8861480075901"
      ]
     },
     "execution_count": 30,
     "metadata": {},
     "output_type": "execute_result"
    }
   ],
   "source": [
    "cross_val_score(rf,df_dum,df.price,cv=5,scoring='neg_mean_absolute_error').mean()"
   ]
  },
  {
   "cell_type": "code",
   "execution_count": 31,
   "metadata": {},
   "outputs": [
    {
     "data": {
      "text/plain": [
       "-73249335.86337762"
      ]
     },
     "execution_count": 31,
     "metadata": {},
     "output_type": "execute_result"
    }
   ],
   "source": [
    "cross_val_score(rf,df_dum,df.price,cv=5,scoring='neg_mean_squared_error').mean()"
   ]
  },
  {
   "cell_type": "code",
   "execution_count": 32,
   "metadata": {},
   "outputs": [],
   "source": [
    "fet = pd.DataFrame(columns=df_dum.columns)"
   ]
  },
  {
   "cell_type": "code",
   "execution_count": 33,
   "metadata": {},
   "outputs": [],
   "source": [
    "fet.loc[0]=rf.feature_importances_"
   ]
  },
  {
   "cell_type": "code",
   "execution_count": 34,
   "metadata": {
    "scrolled": true
   },
   "outputs": [
    {
     "data": {
      "text/plain": [
       "home_square               0.713194\n",
       "ландшафтн дизайн          0.035238\n",
       "озепк меxзавод            0.025822\n",
       "ве                        0.019294\n",
       "кажд                      0.015450\n",
       "студен                    0.014157\n",
       "басcейн метр              0.012541\n",
       "панорамн обзор            0.011930\n",
       "машин метр                0.011557\n",
       "коммуникац собственник    0.011352\n",
       "город                     0.010773\n",
       "озепк                     0.010699\n",
       "месторасположен           0.010651\n",
       "бапбек подников           0.010368\n",
       "эксклюз                   0.010244\n",
       "эксклюз хорош             0.010236\n",
       "элитн                     0.010073\n",
       "обзор волг                0.009833\n",
       "волг                      0.009081\n",
       "можн                      0.005151\n",
       "метр                      0.002799\n",
       "канализац чепновот        0.002074\n",
       "участок завест            0.001846\n",
       "type_Дом                  0.001584\n",
       "land_square               0.001487\n",
       "район                     0.001368\n",
       "material_Кирпич           0.001310\n",
       "электричеств              0.001204\n",
       "земл                      0.001167\n",
       "зелен зон                 0.001125\n",
       "                            ...   \n",
       "поселок озепк             0.000000\n",
       "поселок южн               0.000000\n",
       "посещен                   0.000000\n",
       "посещен ден               0.000000\n",
       "постопойк                 0.000000\n",
       "постопойк жил             0.000000\n",
       "постопойк жила            0.000000\n",
       "постопон                  0.000000\n",
       "постопон теппитор         0.000000\n",
       "постопон тепритоп         0.000000\n",
       "постопонниx               0.000000\n",
       "посадок шашлык            0.000000\n",
       "посадок                   0.000000\n",
       "посадк шашлыкот           0.000000\n",
       "помощ экономичн           0.000000\n",
       "получ                     0.000000\n",
       "получ документ            0.000000\n",
       "получен                   0.000000\n",
       "получен документ          0.000000\n",
       "помоч оформ               0.000000\n",
       "помощ                     0.000000\n",
       "попядк                    0.000000\n",
       "посадк шашлык             0.000000\n",
       "попядк тепл               0.000000\n",
       "порядок                   0.000000\n",
       "порядок тепл              0.000000\n",
       "посад                     0.000000\n",
       "посад абрикос             0.000000\n",
       "посадк                    0.000000\n",
       "нем жит                   0.000000\n",
       "Name: 0, Length: 4964, dtype: float64"
      ]
     },
     "execution_count": 34,
     "metadata": {},
     "output_type": "execute_result"
    }
   ],
   "source": [
    "fet.loc[0].sort_values(ascending=False)"
   ]
  },
  {
   "cell_type": "code",
   "execution_count": 37,
   "metadata": {},
   "outputs": [],
   "source": [
    "from sklearn.model_selection import train_test_split\n",
    "\n",
    "x_trian,x_test,y_train,y_test = train_test_split(df_dum,df.price,test_size=0.2,random_state=777)"
   ]
  },
  {
   "cell_type": "code",
   "execution_count": 38,
   "metadata": {},
   "outputs": [
    {
     "data": {
      "text/plain": [
       "RandomForestRegressor(bootstrap=True, criterion='mse', max_depth=None,\n",
       "           max_features='auto', max_leaf_nodes=None,\n",
       "           min_impurity_decrease=0.0, min_impurity_split=None,\n",
       "           min_samples_leaf=1, min_samples_split=2,\n",
       "           min_weight_fraction_leaf=0.0, n_estimators=10, n_jobs=None,\n",
       "           oob_score=False, random_state=None, verbose=0, warm_start=False)"
      ]
     },
     "execution_count": 38,
     "metadata": {},
     "output_type": "execute_result"
    }
   ],
   "source": [
    "rf.fit(x_trian,y_train)"
   ]
  },
  {
   "cell_type": "code",
   "execution_count": 39,
   "metadata": {},
   "outputs": [],
   "source": [
    "q=pd.DataFrame(columns=['true','pred'])\n",
    "pred = rf.predict(x_test)"
   ]
  },
  {
   "cell_type": "code",
   "execution_count": 40,
   "metadata": {},
   "outputs": [],
   "source": [
    "for i in range(0,len(y_test)):\n",
    "    q.loc[q.shape[0]]=[y_test.values[i],np.round(pred[i],decimals=2)]"
   ]
  },
  {
   "cell_type": "code",
   "execution_count": 41,
   "metadata": {
    "scrolled": true
   },
   "outputs": [
    {
     "data": {
      "text/html": [
       "<div>\n",
       "<style scoped>\n",
       "    .dataframe tbody tr th:only-of-type {\n",
       "        vertical-align: middle;\n",
       "    }\n",
       "\n",
       "    .dataframe tbody tr th {\n",
       "        vertical-align: top;\n",
       "    }\n",
       "\n",
       "    .dataframe thead th {\n",
       "        text-align: right;\n",
       "    }\n",
       "</style>\n",
       "<table border=\"1\" class=\"dataframe\">\n",
       "  <thead>\n",
       "    <tr style=\"text-align: right;\">\n",
       "      <th></th>\n",
       "      <th>true</th>\n",
       "      <th>pred</th>\n",
       "    </tr>\n",
       "  </thead>\n",
       "  <tbody>\n",
       "    <tr>\n",
       "      <th>162</th>\n",
       "      <td>3500000.0</td>\n",
       "      <td>3510000.0</td>\n",
       "    </tr>\n",
       "    <tr>\n",
       "      <th>193</th>\n",
       "      <td>480000.0</td>\n",
       "      <td>304000.0</td>\n",
       "    </tr>\n",
       "  </tbody>\n",
       "</table>\n",
       "</div>"
      ],
      "text/plain": [
       "          true       pred\n",
       "162  3500000.0  3510000.0\n",
       "193   480000.0   304000.0"
      ]
     },
     "execution_count": 41,
     "metadata": {},
     "output_type": "execute_result"
    }
   ],
   "source": [
    "q[q.true!=q.pred]"
   ]
  },
  {
   "cell_type": "code",
   "execution_count": 42,
   "metadata": {
    "scrolled": true
   },
   "outputs": [],
   "source": [
    "cor=(pd.concat([df_dum,df.price],axis=1)).corr()"
   ]
  },
  {
   "cell_type": "code",
   "execution_count": 66,
   "metadata": {
    "scrolled": true
   },
   "outputs": [
    {
     "data": {
      "text/plain": [
       "price                     1.000000\n",
       "home_square               0.836391\n",
       "flours                    0.654573\n",
       "площадк                   0.629801\n",
       "дизайн                    0.629801\n",
       "бильярдна                 0.561986\n",
       "басcейн                   0.561986\n",
       "машин метр                0.561986\n",
       "метр бильярдна            0.561986\n",
       "бильярдна бапбек          0.561986\n",
       "ландшафтн                 0.561986\n",
       "меxзавод                  0.561986\n",
       "бапбек                    0.561986\n",
       "этаж цокол                0.561986\n",
       "элитн коттеджн            0.561986\n",
       "элитн                     0.561986\n",
       "бапбек подников           0.561986\n",
       "озепк                     0.561986\n",
       "озепк меxзавод            0.561986\n",
       "цокол элитн               0.561986\n",
       "ландшафтн дизайн          0.561986\n",
       "басcейн метр              0.561986\n",
       "подников                  0.561986\n",
       "коттеджн                  0.561986\n",
       "панорамн                  0.505137\n",
       "меxзавод участок          0.493864\n",
       "постройк ве               0.485657\n",
       "месторасположен город     0.485657\n",
       "обзор волг                0.485657\n",
       "хорош месторасположен     0.485657\n",
       "коттедж постройк          0.485657\n",
       "коммуникац собственник    0.485657\n",
       "обзор                     0.485657\n",
       "волг коттедж              0.485657\n",
       "эксклюз хорош             0.485657\n",
       "город панорамн            0.485657\n",
       "эксклюз                   0.485657\n",
       "панорамн обзор            0.485657\n",
       "коммуникац                0.483832\n",
       "машин                     0.481727\n",
       "пподаж метр               0.466779\n",
       "land_square               0.461361\n",
       "коттедж                   0.451290\n",
       "цокол                     0.451058\n",
       "пподаж                    0.442638\n",
       "ве коммуникац             0.434275\n",
       "type_Коттедж              0.426493\n",
       "отдельностоя              0.423090\n",
       "волг                      0.416794\n",
       "спортза                   0.415430\n",
       "Name: price, dtype: float64"
      ]
     },
     "execution_count": 66,
     "metadata": {},
     "output_type": "execute_result"
    }
   ],
   "source": [
    "cor.price.sort_values(ascending=False).head(50)"
   ]
  },
  {
   "cell_type": "code",
   "execution_count": 43,
   "metadata": {},
   "outputs": [],
   "source": [
    "from sklearn.decomposition import PCA"
   ]
  },
  {
   "cell_type": "code",
   "execution_count": 44,
   "metadata": {},
   "outputs": [],
   "source": [
    "pca = PCA(n_components=2)\n",
    "pca_df = pd.DataFrame(data = pca.fit_transform(df_dum),columns=['x','y'])"
   ]
  },
  {
   "cell_type": "code",
   "execution_count": 45,
   "metadata": {},
   "outputs": [],
   "source": [
    "pca_df['price'] = df.price"
   ]
  },
  {
   "cell_type": "code",
   "execution_count": 46,
   "metadata": {},
   "outputs": [],
   "source": [
    "import seaborn as sns\n",
    "import matplotlib.pyplot as plt\n",
    "%matplotlib inline"
   ]
  },
  {
   "cell_type": "code",
   "execution_count": 47,
   "metadata": {},
   "outputs": [
    {
     "data": {
      "image/png": "[encoded data removed]",
      "text/plain": [
       "<Figure size 720x504 with 2 Axes>"
      ]
     },
     "metadata": {
      "needs_background": "light"
     },
     "output_type": "display_data"
    }
   ],
   "source": [
    "plt.figure(figsize=(10,7))\n",
    "plt.scatter(\n",
    "    x=pca_df.x, # координаты по оси Х\n",
    "    y=pca_df.y, # координаты по оси Y\n",
    "    c=pca_df.price, # задаем раскраску точек (с - сокращение от colors)\n",
    "    s=70, # размер точек\n",
    "    cmap='viridis' # цветовая схема\n",
    ")\n",
    "plt.colorbar()\n",
    "plt.show()"
   ]
  },
  {
   "cell_type": "code",
   "execution_count": 48,
   "metadata": {},
   "outputs": [
    {
     "data": {
      "text/plain": [
       "<matplotlib.axes._subplots.AxesSubplot at 0x1a607e8978>"
      ]
     },
     "execution_count": 48,
     "metadata": {},
     "output_type": "execute_result"
    },
    {
     "data": {
      "image/png": "[encoded data removed]",
      "text/plain": [
       "<Figure size 1440x360 with 1 Axes>"
      ]
     },
     "metadata": {
      "needs_background": "light"
     },
     "output_type": "display_data"
    }
   ],
   "source": [
    "cor.price.sort_values(ascending=False).head(50)[1:].plot.bar(figsize=(20,5))\n"
   ]
  },
  {
   "cell_type": "code",
   "execution_count": 49,
   "metadata": {
    "scrolled": true
   },
   "outputs": [
    {
     "data": {
      "text/plain": [
       "<matplotlib.axes._subplots.AxesSubplot at 0x1a60b33e10>"
      ]
     },
     "execution_count": 49,
     "metadata": {},
     "output_type": "execute_result"
    },
    {
     "data": {
      "image/png": "[encoded data removed]",
      "text/plain": [
       "<Figure size 1440x360 with 1 Axes>"
      ]
     },
     "metadata": {
      "needs_background": "light"
     },
     "output_type": "display_data"
    }
   ],
   "source": [
    "cor.price.sort_values(ascending=False).tail(50)[1:].plot.bar(figsize=(20,5))"
   ]
  },
  {
   "cell_type": "code",
   "execution_count": 50,
   "metadata": {},
   "outputs": [
    {
     "data": {
      "text/plain": [
       "<matplotlib.axes._subplots.AxesSubplot at 0x1a60e3eb00>"
      ]
     },
     "execution_count": 50,
     "metadata": {},
     "output_type": "execute_result"
    },
    {
     "data": {
      "image/png": "[encoded data removed]",
      "text/plain": [
       "<Figure size 1440x360 with 1 Axes>"
      ]
     },
     "metadata": {
      "needs_background": "light"
     },
     "output_type": "display_data"
    }
   ],
   "source": [
    "fet.loc[0].sort_values(ascending=False).head(50)[1:].plot.bar(figsize=(20,5))"
   ]
  },
  {
   "cell_type": "code",
   "execution_count": null,
   "metadata": {},
   "outputs": [],
   "source": []
  }
 ],
 "metadata": {
  "kernelspec": {
   "display_name": "Python 3",
   "language": "python",
   "name": "python3"
  },
  "language_info": {
   "codemirror_mode": {
    "name": "ipython",
    "version": 3
   },
   "file_extension": ".py",
   "mimetype": "text/x-python",
   "name": "python",
   "nbconvert_exporter": "python",
   "pygments_lexer": "ipython3",
   "version": "3.7.3"
  }
 },
 "nbformat": 4,
 "nbformat_minor": 2
}
